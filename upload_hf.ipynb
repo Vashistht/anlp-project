{
 "cells": [
  {
   "cell_type": "code",
   "execution_count": null,
   "metadata": {},
   "outputs": [],
   "source": [
    "# file to upload hf models'\n",
    "from huggingface_hub import HfApi\n",
    "from huggingface_hub import create_repo\n",
    "import os \n",
    "hf_token = os.getenv(\"HF_TOKEN\")\n",
    "api = HfApi()"
   ]
  },
  {
   "cell_type": "code",
   "execution_count": null,
   "metadata": {},
   "outputs": [],
   "source": [
    "api.create_repo(repo_id=\"vashistht/bonsai-reasoning-adapter_prune_c4_ft_wiki\", repo_type='model', token = hf_token, exist_ok=True)"
   ]
  },
  {
   "cell_type": "code",
   "execution_count": null,
   "metadata": {},
   "outputs": [],
   "source": [
    "api.upload_folder(\n",
    "    folder_path=\"/home/vashistt/Desktop/anlp-project/finetuned_model_prune_c4_ft_wiki\",\n",
    "    repo_id=\"vashistht/bonsai-reasoning-adapter_prune_c4_ft_wiki\",\n",
    "    repo_type=\"model\",\n",
    "    token = hf_token,\n",
    ")"
   ]
  }
 ],
 "metadata": {
  "language_info": {
   "name": "python"
  }
 },
 "nbformat": 4,
 "nbformat_minor": 2
}
