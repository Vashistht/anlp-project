{
 "cells": [
  {
   "cell_type": "code",
   "execution_count": 35,
   "metadata": {},
   "outputs": [],
   "source": [
    "import json\n",
    "import os\n",
    "import re\n",
    "import torch\n",
    "import random \n"
   ]
  },
  {
   "cell_type": "code",
   "execution_count": 36,
   "metadata": {},
   "outputs": [],
   "source": [
    "ANS_RE = re.compile(r\"(.*?)####\\s*(-?[0-9.,]+)\")\n",
    "\n",
    "INVALID_ANS = \"[invalid]\""
   ]
  },
  {
   "cell_type": "code",
   "execution_count": 37,
   "metadata": {},
   "outputs": [],
   "source": [
    "def extract_answer(completion):\n",
    "    # Search for the pattern capturing text before and after '####'\n",
    "    completion = re.sub(r\"<<.*?>>\", \"\", completion)\n",
    "    # Search for the pattern capturing text before and after '####'\n",
    "    match = ANS_RE.search(completion)\n",
    "    if match:\n",
    "        # Extract rationale and answer, removing unnecessary spaces and commas\n",
    "        rationale = match.group(1).strip()\n",
    "        answer = match.group(2).strip().replace(\",\", \"\")  # Remove commas from numbers, if any\n",
    "        return rationale, answer\n",
    "    return INVALID_ANS  # Return invalid if no pattern matches"
   ]
  },
  {
   "cell_type": "code",
   "execution_count": 38,
   "metadata": {},
   "outputs": [],
   "source": [
    "x = {'question': 'Natalia sold clips to 48 of her friends in April, and then she sold half as many clips in May. How many clips did Natalia sell altogether in April and May?', 'answer': 'Natalia sold 48/2 = <<48/2=24>>24 clips in May.\\nNatalia sold 48+24 = <<48+24=72>>72 clips altogether in April and May.\\n#### 72'}"
   ]
  },
  {
   "cell_type": "code",
   "execution_count": 39,
   "metadata": {},
   "outputs": [
    {
     "data": {
      "text/plain": [
       "'Natalia sold 48/2 = <<48/2=24>>24 clips in May.\\nNatalia sold 48+24 = <<48+24=72>>72 clips altogether in April and May.\\n#### 72'"
      ]
     },
     "execution_count": 39,
     "metadata": {},
     "output_type": "execute_result"
    }
   ],
   "source": [
    "x['answer']"
   ]
  },
  {
   "cell_type": "code",
   "execution_count": 40,
   "metadata": {},
   "outputs": [
    {
     "data": {
      "text/plain": [
       "('', '72')"
      ]
     },
     "execution_count": 40,
     "metadata": {},
     "output_type": "execute_result"
    }
   ],
   "source": [
    "extract_answer(x['answer'])"
   ]
  },
  {
   "cell_type": "code",
   "execution_count": 42,
   "metadata": {},
   "outputs": [],
   "source": [
    "ANS_RE = re.compile(r\"#### (\\-?[0-9\\.\\,]+)\")\n",
    "INVALID_ANS = \"[invalid]\"\n",
    "\n",
    "\n",
    "def extract_answer(completion):\n",
    "    match = ANS_RE.search(completion)\n",
    "    if match:\n",
    "        match_str = match.group(1).strip()\n",
    "        match_str = match_str.replace(\",\", \"\")\n",
    "        return match_str\n",
    "    else:\n",
    "        return INVALID_ANS\n"
   ]
  },
  {
   "cell_type": "code",
   "execution_count": 44,
   "metadata": {},
   "outputs": [
    {
     "data": {
      "text/plain": [
       "'72'"
      ]
     },
     "execution_count": 44,
     "metadata": {},
     "output_type": "execute_result"
    }
   ],
   "source": [
    "extract_answer(x['answer'])"
   ]
  },
  {
   "cell_type": "code",
   "execution_count": 48,
   "metadata": {},
   "outputs": [
    {
     "name": "stdout",
     "output_type": "stream",
     "text": [
      "Original completion: Natalia sold 48/2 = <<48/2=24>>24 clips in May.\n",
      "Natalia sold 48+24 = <<48+24=72>>72 clips altogether in April and May.\n",
      "#### 72\n",
      "Rationale: Natalia sold 48/2 = 24 clips in May.\n",
      "Natalia sold 48+24 = 72 clips altogether in April and May.\n",
      "Answer: 72\n"
     ]
    }
   ],
   "source": [
    "import re\n",
    "\n",
    "# Updated regex to capture text before and after '####'\n",
    "ANS_RE = re.compile(r\"(.*?)####\\s*(-?[0-9.,]+)\", re.DOTALL)  # Ensure re.DOTALL is used if multiline handling is necessary\n",
    "INVALID_ANS = \"[invalid]\"\n",
    "\n",
    "def extract_answer(completion):\n",
    "    print(\"Original completion:\", completion)  # Debug print\n",
    "    # Remove placeholder text enclosed in <<...>>\n",
    "    completion = re.sub(r\"<<.*?>>\", \"\", completion)\n",
    "    \n",
    "    # Search for the pattern capturing text before and after '####'\n",
    "    match = ANS_RE.search(completion)\n",
    "    if match:\n",
    "        # Extract rationale and answer, removing unnecessary spaces and commas\n",
    "        rationale = match.group(1).strip()\n",
    "        answer = match.group(2).strip().replace(\",\", \"\")  # Remove commas from numbers, if any\n",
    "        return rationale, answer\n",
    "    return INVALID_ANS  # Return invalid if no pattern matches\n",
    "\n",
    "# Test data\n",
    "x = {\n",
    "    'question': 'Natalia sold clips to 48 of her friends in April, and then she sold half as many clips in May. How many clips did Natalia sell altogether in April and May?',\n",
    "    'answer': 'Natalia sold 48/2 = <<48/2=24>>24 clips in May.\\nNatalia sold 48+24 = <<48+24=72>>72 clips altogether in April and May.\\n#### 72'\n",
    "}\n",
    "\n",
    "# Call the function and print the result\n",
    "rationale, answer = extract_answer(x['answer'])\n",
    "print(\"Rationale:\", rationale)\n",
    "print(\"Answer:\", answer)\n"
   ]
  },
  {
   "cell_type": "code",
   "execution_count": 49,
   "metadata": {},
   "outputs": [
    {
     "data": {
      "text/plain": [
       "'Natalia sold 48/2 = 24 clips in May.\\nNatalia sold 48+24 = 72 clips altogether in April and May.'"
      ]
     },
     "execution_count": 49,
     "metadata": {},
     "output_type": "execute_result"
    }
   ],
   "source": [
    "rationale"
   ]
  },
  {
   "cell_type": "code",
   "execution_count": null,
   "metadata": {},
   "outputs": [],
   "source": []
  }
 ],
 "metadata": {
  "kernelspec": {
   "display_name": "llama_hw",
   "language": "python",
   "name": "python3"
  },
  "language_info": {
   "codemirror_mode": {
    "name": "ipython",
    "version": 3
   },
   "file_extension": ".py",
   "mimetype": "text/x-python",
   "name": "python",
   "nbconvert_exporter": "python",
   "pygments_lexer": "ipython3",
   "version": "3.11.7"
  }
 },
 "nbformat": 4,
 "nbformat_minor": 2
}
