{
 "cells": [
  {
   "cell_type": "code",
   "execution_count": 1,
   "id": "da9049ff-d2c1-485c-a3ee-f246b28ba6c2",
   "metadata": {
    "tags": []
   },
   "outputs": [
    {
     "name": "stdout",
     "output_type": "stream",
     "text": [
      "Traceback (most recent call last):\n",
      "  File \"/home/ec2-user/SageMaker/Bonsai/main.py\", line 4, in <module>\n",
      "    import torch\n",
      "ModuleNotFoundError: No module named 'torch'\n"
     ]
    }
   ],
   "source": [
    "CUDA_VISIBLE_DEVICES=0  python main.py --model microsoft/phi-1_5 --dataset wikitext2 --sparsity_ratio 0.5 --wandb_project_name pruning-phi --masks_per_iter 200 --nsamples 32 --save outdir  --prune_frac 0.05 --bsz 1 --prune_method wanda"
   ]
  },
  {
   "cell_type": "code",
   "execution_count": null,
   "id": "342999d7-0e1d-4928-933f-eef2990b245b",
   "metadata": {},
   "outputs": [],
   "source": []
  }
 ],
 "metadata": {
  "kernelspec": {
   "display_name": "prune_llm",
   "language": "python",
   "name": "prune_llm"
  },
  "language_info": {
   "codemirror_mode": {
    "name": "ipython",
    "version": 3
   },
   "file_extension": ".py",
   "mimetype": "text/x-python",
   "name": "python",
   "nbconvert_exporter": "python",
   "pygments_lexer": "ipython3",
   "version": "3.11.5"
  }
 },
 "nbformat": 4,
 "nbformat_minor": 5
}
